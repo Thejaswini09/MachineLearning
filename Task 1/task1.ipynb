{
 "cells": [
  {
   "cell_type": "code",
   "execution_count": 1,
   "metadata": {},
   "outputs": [
    {
     "name": "stdout",
     "output_type": "stream",
     "text": [
      "Requirement already satisfied: PyMuPDF in c:\\users\\tr4\\appdata\\local\\programs\\python\\python312\\lib\\site-packages (1.24.5)\n",
      "Requirement already satisfied: PyMuPDFb==1.24.3 in c:\\users\\tr4\\appdata\\local\\programs\\python\\python312\\lib\\site-packages (from PyMuPDF) (1.24.3)\n",
      "Note: you may need to restart the kernel to use updated packages.\n"
     ]
    },
    {
     "name": "stderr",
     "output_type": "stream",
     "text": [
      "\n",
      "[notice] A new release of pip is available: 24.0 -> 24.1\n",
      "[notice] To update, run: python.exe -m pip install --upgrade pip\n"
     ]
    },
    {
     "name": "stdout",
     "output_type": "stream",
     "text": [
      "Note: you may need to restart the kernel to use updated packages.\n"
     ]
    },
    {
     "name": "stderr",
     "output_type": "stream",
     "text": [
      "ERROR: Could not find a version that satisfies the requirement PIL (from versions: none)\n",
      "ERROR: No matching distribution found for PIL\n",
      "\n",
      "[notice] A new release of pip is available: 24.0 -> 24.1\n",
      "[notice] To update, run: python.exe -m pip install --upgrade pip\n"
     ]
    },
    {
     "name": "stdout",
     "output_type": "stream",
     "text": [
      "Requirement already satisfied: numpy in c:\\users\\tr4\\appdata\\local\\programs\\python\\python312\\lib\\site-packages (2.0.0)\n",
      "Note: you may need to restart the kernel to use updated packages.\n"
     ]
    },
    {
     "name": "stderr",
     "output_type": "stream",
     "text": [
      "\n",
      "[notice] A new release of pip is available: 24.0 -> 24.1\n",
      "[notice] To update, run: python.exe -m pip install --upgrade pip\n"
     ]
    }
   ],
   "source": [
    "%pip install PyMuPDF\n",
    "%pip install PIL\n",
    "%pip install numpy"
   ]
  },
  {
   "cell_type": "code",
   "execution_count": 2,
   "metadata": {},
   "outputs": [
    {
     "name": "stdout",
     "output_type": "stream",
     "text": [
      "Requirement already satisfied: pytesseract in c:\\users\\tr4\\appdata\\local\\programs\\python\\python312\\lib\\site-packages (0.3.10)\n",
      "Requirement already satisfied: packaging>=21.3 in c:\\users\\tr4\\appdata\\roaming\\python\\python312\\site-packages (from pytesseract) (24.1)\n",
      "Requirement already satisfied: Pillow>=8.0.0 in c:\\users\\tr4\\appdata\\roaming\\python\\python312\\site-packages (from pytesseract) (10.3.0)\n",
      "Note: you may need to restart the kernel to use updated packages.\n"
     ]
    },
    {
     "name": "stderr",
     "output_type": "stream",
     "text": [
      "\n",
      "[notice] A new release of pip is available: 24.0 -> 24.1\n",
      "[notice] To update, run: python.exe -m pip install --upgrade pip\n"
     ]
    }
   ],
   "source": [
    "%pip install pytesseract"
   ]
  },
  {
   "cell_type": "code",
   "execution_count": 3,
   "metadata": {},
   "outputs": [
    {
     "name": "stdout",
     "output_type": "stream",
     "text": [
      "Requirement already satisfied: python-docx in c:\\users\\tr4\\appdata\\local\\programs\\python\\python312\\lib\\site-packages (1.1.2)\n",
      "Requirement already satisfied: lxml>=3.1.0 in c:\\users\\tr4\\appdata\\local\\programs\\python\\python312\\lib\\site-packages (from python-docx) (5.2.2)\n",
      "Requirement already satisfied: typing-extensions>=4.9.0 in c:\\users\\tr4\\appdata\\local\\programs\\python\\python312\\lib\\site-packages (from python-docx) (4.12.2)\n",
      "Note: you may need to restart the kernel to use updated packages.\n"
     ]
    },
    {
     "name": "stderr",
     "output_type": "stream",
     "text": [
      "\n",
      "[notice] A new release of pip is available: 24.0 -> 24.1\n",
      "[notice] To update, run: python.exe -m pip install --upgrade pip\n"
     ]
    }
   ],
   "source": [
    "%pip install python-docx"
   ]
  },
  {
   "cell_type": "code",
   "execution_count": 4,
   "metadata": {},
   "outputs": [
    {
     "name": "stdout",
     "output_type": "stream",
     "text": [
      "Note: you may need to restart the kernel to use updated packages.\n",
      "Requirement already satisfied: opencv-python in c:\\users\\tr4\\appdata\\local\\programs\\python\\python312\\lib\\site-packages (4.10.0.84)\n",
      "Requirement already satisfied: numpy>=1.21.2 in c:\\users\\tr4\\appdata\\local\\programs\\python\\python312\\lib\\site-packages (from opencv-python) (2.0.0)\n"
     ]
    },
    {
     "name": "stderr",
     "output_type": "stream",
     "text": [
      "\n",
      "[notice] A new release of pip is available: 24.0 -> 24.1\n",
      "[notice] To update, run: python.exe -m pip install --upgrade pip\n"
     ]
    }
   ],
   "source": [
    "%pip install opencv-python"
   ]
  },
  {
   "cell_type": "code",
   "execution_count": 87,
   "metadata": {},
   "outputs": [],
   "source": [
    "import os\n",
    "import pytesseract\n",
    "from PIL import Image\n",
    "import numpy\n",
    "import docx\n",
    "import fitz\n",
    "import logging\n",
    "import cv2\n",
    "\n",
    "logging.basicConfig(filename=\"Task1.log\", level=logging.INFO,  format='%(asctime)s %(message)s')"
   ]
  },
  {
   "cell_type": "code",
   "execution_count": 88,
   "metadata": {},
   "outputs": [],
   "source": [
    "pytesseract.pytesseract.tesseract_cmd = r'C:\\\\Users\\\\tr4\\\\AppData\\\\Local\\\\Programs\\\\Tesseract-OCR\\\\tesseract.exe'"
   ]
  },
  {
   "cell_type": "code",
   "execution_count": 89,
   "metadata": {},
   "outputs": [],
   "source": [
    "def file_type(file_path):\n",
    "    _, file_extension = os.path.splitext(file_path)\n",
    "    return file_extension.lower()"
   ]
  },
  {
   "cell_type": "code",
   "execution_count": 90,
   "metadata": {},
   "outputs": [],
   "source": [
    "\n",
    "def extract_from_image(file_path):\n",
    "    # image = Image.open(file_path)\n",
    "    import numpy as np\n",
    "    image = cv2.imread(file_path)\n",
    "    logging.info(\"Extracting the Text from Images\")\n",
    "    # norm_img = np.zeros((image.shape[0], image.shape[1]))\n",
    "    # image = cv2.normalize(image, norm_img, 0, 255, cv2.NORM_MINMAX)\n",
    "\n",
    "    # length_x, width_y = image.size\n",
    "    # factor = min(1, float(1024.0 / length_x))\n",
    "    # size = int(factor * length_x), int(factor * width_y)\n",
    "    # im_resized = image.resize(size, Image.ANTIALIAS)\n",
    "    # im_resized.save(image, dpi=(300, 300))\n",
    "\n",
    "    # image = cv2.fastNlMeansDenoisingColored(image, None, 10, 10, 7, 15)\n",
    "\n",
    "\n",
    "    # kernel = np.ones((5,5),np.uint8)\n",
    "    # image = cv2.erode(image, kernel, iterations = 1)\n",
    "    # image = cv2.cvtColor(image, cv2.COLOR_BGR2GRAY)\n",
    "\n",
    "    # image = cv2.threshold(image, 0, 255, cv2.THRESH_BINARY + cv2.THRESH_OTSU)\n",
    "\n",
    "    # kernel = numpy.ones((2,2),numpy.uint8)\n",
    "    # image = cv2.erode(image, kernel, iterations=1)\n",
    "    # image = cv2.bitwise_not(image)\n",
    "    # image = cv2.adaptiveThreshold(image, 255, cv2.ADAPTIVE_THRESH_GAUSSIAN_C, cv2.THRESH_BINARY, 5, 11)\n",
    "    text = pytesseract.image_to_string(image)\n",
    "    # text = ''.join(text.split())\n",
    "    return text "
   ]
  },
  {
   "cell_type": "code",
   "execution_count": 91,
   "metadata": {},
   "outputs": [],
   "source": [
    "import io"
   ]
  },
  {
   "cell_type": "code",
   "execution_count": 92,
   "metadata": {},
   "outputs": [],
   "source": [
    "def extract_from_pdf(file_path):\n",
    "    logging.info(\"Extracting the text from the PDF\")\n",
    "    doc = fitz.open(file_path)\n",
    "    images = []\n",
    "    text = \"\"\n",
    "    for page_num in range(len(doc)):\n",
    "        page = doc.load_page(page_num)\n",
    "        text += page.get_text()\n",
    "        image_list = page.get_images(full=True)\n",
    "        \n",
    "        for img_index, img in enumerate(image_list):\n",
    "            logging.info(\"Images found in the PDF\")\n",
    "            xref = img[0]\n",
    "            base_image = doc.extract_image(xref)\n",
    "            image_bytes = base_image[\"image\"]\n",
    "            image = Image.open(io.BytesIO(image_bytes))\n",
    "            images.append(image)\n",
    "    \n",
    "    logging.info(\"The total number of Images found in the PDF\", len(images))\n",
    "    for img in images:\n",
    "        logging.info(\"Text Extracted from the Images\")\n",
    "        ocr_text = pytesseract.image_to_string(img)\n",
    "        text += \"\\n\" + ocr_text\n",
    "    return text"
   ]
  },
  {
   "cell_type": "code",
   "execution_count": 93,
   "metadata": {},
   "outputs": [],
   "source": [
    "def extract_from_docx(file_path):\n",
    "    logging.info(\"Extracting the text from the Document\")\n",
    "    doc = docx.Document(file_path)\n",
    "    text = \" \".join([para.text for para in doc.paragraphs])\n",
    "    images = []\n",
    "    for rel in doc.part.rels:\n",
    "        if \"image\" in doc.part.rels[rel].target_ref:\n",
    "            image = doc.part.rels[rel].target_part.blob\n",
    "            img = Image.open(io.BytesIO(image))\n",
    "            images.append(img)\n",
    "    logging.info(f\"The total number of Images found in the document {len(images)}\")\n",
    "    for img in images:\n",
    "        logging.info(\"Text Extracted from the Images\")\n",
    "        ocr_text = pytesseract.image_to_string(img)\n",
    "        text += \"\\n\" + ocr_text\n",
    "    return text"
   ]
  },
  {
   "cell_type": "code",
   "execution_count": 94,
   "metadata": {},
   "outputs": [],
   "source": [
    "def extract_from_txt(file_path):\n",
    "    logging.info(\"Extracting the text from the Text file\")\n",
    "    with open(file_path,'r') as file:\n",
    "        text = file.read()\n",
    "    return text"
   ]
  },
  {
   "cell_type": "code",
   "execution_count": 101,
   "metadata": {},
   "outputs": [],
   "source": [
    "def valid_characters(text):\n",
    "    try:\n",
    "        text.encode('utf-8')\n",
    "        return True\n",
    "    except UnicodeEncodeError:\n",
    "        return False"
   ]
  },
  {
   "cell_type": "code",
   "execution_count": 102,
   "metadata": {},
   "outputs": [],
   "source": [
    "def process_file(file_path):\n",
    "    file_name = os.path.basename(file_path)\n",
    "    file_new = file_type(file_path)\n",
    "    if file_new in ['.jpg', '.jpeg', '.png']:\n",
    "        logging.info(f\"Found an Image file: {file_name}\")\n",
    "        extracted_text = extract_from_image(file_path)\n",
    "    elif file_new == '.pdf':\n",
    "        logging.info(f\"Found a PDF file: {file_name}\")\n",
    "        extracted_text = extract_from_pdf(file_path)\n",
    "    elif file_new in ['.docx', '.doc']:\n",
    "        logging.info(f\"Found a document file: {file_name}\")\n",
    "        extracted_text = extract_from_docx(file_path)\n",
    "    elif file_new == '.txt':\n",
    "        logging.info(f\"Found a Text file: {file_name}\")\n",
    "        extracted_text = extract_from_txt(file_path)\n",
    "    else:\n",
    "        logging.error(f\"Unsupported file type: {file_new} - {file_name}\")\n",
    "        extracted_text = None\n",
    "    \n",
    "    if extracted_text:\n",
    "        if not valid_characters(extracted_text):\n",
    "            logging.warning(f\"Extracted text contains invalid characters: {file_name}\")\n",
    "\n",
    "    return file_name, extracted_text\n"
   ]
  },
  {
   "cell_type": "code",
   "execution_count": 98,
   "metadata": {},
   "outputs": [
    {
     "name": "stdout",
     "output_type": "stream",
     "text": [
      "Extracted text saved to: Output\\Aashirvad_extracted.txt\n",
      "Extracted text saved to: Output\\image1_extracted.txt\n",
      "Extracted text saved to: Output\\image2_extracted.txt\n",
      "Extracted text saved to: Output\\image3_extracted.txt\n",
      "Extracted text saved to: Output\\ImagesWord_extracted.txt\n",
      "Extracted text saved to: Output\\Task_interns_extracted.txt\n",
      "Extracted text saved to: Output\\withImagesWord_extracted.txt\n"
     ]
    }
   ],
   "source": [
    "def process_folder(input_folder):\n",
    "    output_folder = \"Output\"\n",
    "    os.makedirs(output_folder, exist_ok=True)\n",
    "    files = os.listdir(input_folder)\n",
    "    for file_name in files:\n",
    "        file_path = os.path.join(input_folder, file_name)\n",
    "        if os.path.isfile(file_path):\n",
    "            original_name, extracted_text = process_file(file_path)\n",
    "            if extracted_text:\n",
    "                output_file_name = f\"{os.path.splitext(original_name)[0]}_extracted.txt\"\n",
    "                output_file_path = os.path.join(output_folder, output_file_name)\n",
    "                with open(output_file_path, 'w', encoding='utf-8') as f:\n",
    "                    f.write(extracted_text)\n",
    "                print(f\"Extracted text saved to: {output_file_path}\")\n",
    "            else:\n",
    "                print(f\"Extraction failed for: {file_path}\")\n",
    "\n",
    "if __name__ == \"__main__\":\n",
    "    input_folder = \"Input\"\n",
    "    process_folder(input_folder)"
   ]
  },
  {
   "cell_type": "code",
   "execution_count": null,
   "metadata": {},
   "outputs": [],
   "source": []
  }
 ],
 "metadata": {
  "kernelspec": {
   "display_name": "Python 3",
   "language": "python",
   "name": "python3"
  },
  "language_info": {
   "codemirror_mode": {
    "name": "ipython",
    "version": 3
   },
   "file_extension": ".py",
   "mimetype": "text/x-python",
   "name": "python",
   "nbconvert_exporter": "python",
   "pygments_lexer": "ipython3",
   "version": "3.12.2"
  }
 },
 "nbformat": 4,
 "nbformat_minor": 2
}
